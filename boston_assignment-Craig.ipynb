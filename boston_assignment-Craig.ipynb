{
 "cells": [
  {
   "cell_type": "markdown",
   "metadata": {},
   "source": [
    "## Boston Housing Assignment\n",
    "\n",
    "In this assignment you'll be using linear regression to estimate the cost of house in boston, using a well known dataset.\n",
    "\n",
    "Goals:\n",
    "+  Measure the performance of the model I created using $R^{2}$ and MSE\n",
    "> Learn how to use sklearn.metrics.r2_score and sklearn.metrics.mean_squared_error\n",
    "+  Implement a new model using L2 regularization\n",
    "> Use sklearn.linear_model.Ridge or sklearn.linear_model.Lasso \n",
    "+  Get the best model you can by optimizing the regularization parameter.   "
   ]
  },
  {
   "cell_type": "code",
   "execution_count": 3,
   "metadata": {
    "collapsed": false
   },
   "outputs": [],
   "source": [
    "from sklearn import datasets\n",
    "import pandas as pd\n",
    "from sklearn.preprocessing import StandardScaler\n",
    "from sklearn.cross_validation import train_test_split\n",
    "from sklearn.metrics import mean_squared_error\n",
    "from sklearn.metrics import r2_score\n",
    "from sklearn.linear_model import LinearRegression"
   ]
  },
  {
   "cell_type": "code",
   "execution_count": 4,
   "metadata": {
    "collapsed": false
   },
   "outputs": [
    {
     "name": "stdout",
     "output_type": "stream",
     "text": [
      "Boston House Prices dataset\n",
      "\n",
      "Notes\n",
      "------\n",
      "Data Set Characteristics:  \n",
      "\n",
      "    :Number of Instances: 506 \n",
      "\n",
      "    :Number of Attributes: 13 numeric/categorical predictive\n",
      "    \n",
      "    :Median Value (attribute 14) is usually the target\n",
      "\n",
      "    :Attribute Information (in order):\n",
      "        - CRIM     per capita crime rate by town\n",
      "        - ZN       proportion of residential land zoned for lots over 25,000 sq.ft.\n",
      "        - INDUS    proportion of non-retail business acres per town\n",
      "        - CHAS     Charles River dummy variable (= 1 if tract bounds river; 0 otherwise)\n",
      "        - NOX      nitric oxides concentration (parts per 10 million)\n",
      "        - RM       average number of rooms per dwelling\n",
      "        - AGE      proportion of owner-occupied units built prior to 1940\n",
      "        - DIS      weighted distances to five Boston employment centres\n",
      "        - RAD      index of accessibility to radial highways\n",
      "        - TAX      full-value property-tax rate per $10,000\n",
      "        - PTRATIO  pupil-teacher ratio by town\n",
      "        - B        1000(Bk - 0.63)^2 where Bk is the proportion of blacks by town\n",
      "        - LSTAT    % lower status of the population\n",
      "        - MEDV     Median value of owner-occupied homes in $1000's\n",
      "\n",
      "    :Missing Attribute Values: None\n",
      "\n",
      "    :Creator: Harrison, D. and Rubinfeld, D.L.\n",
      "\n",
      "This is a copy of UCI ML housing dataset.\n",
      "http://archive.ics.uci.edu/ml/datasets/Housing\n",
      "\n",
      "\n",
      "This dataset was taken from the StatLib library which is maintained at Carnegie Mellon University.\n",
      "\n",
      "The Boston house-price data of Harrison, D. and Rubinfeld, D.L. 'Hedonic\n",
      "prices and the demand for clean air', J. Environ. Economics & Management,\n",
      "vol.5, 81-102, 1978.   Used in Belsley, Kuh & Welsch, 'Regression diagnostics\n",
      "...', Wiley, 1980.   N.B. Various transformations are used in the table on\n",
      "pages 244-261 of the latter.\n",
      "\n",
      "The Boston house-price data has been used in many machine learning papers that address regression\n",
      "problems.   \n",
      "     \n",
      "**References**\n",
      "\n",
      "   - Belsley, Kuh & Welsch, 'Regression diagnostics: Identifying Influential Data and Sources of Collinearity', Wiley, 1980. 244-261.\n",
      "   - Quinlan,R. (1993). Combining Instance-Based and Model-Based Learning. In Proceedings on the Tenth International Conference of Machine Learning, 236-243, University of Massachusetts, Amherst. Morgan Kaufmann.\n",
      "   - many more! (see http://archive.ics.uci.edu/ml/datasets/Housing)\n",
      "\n"
     ]
    }
   ],
   "source": [
    "bean = datasets.load_boston()\n",
    "print(bean.DESCR)"
   ]
  },
  {
   "cell_type": "code",
   "execution_count": 5,
   "metadata": {
    "collapsed": false
   },
   "outputs": [],
   "source": [
    "def load_boston():\n",
    "    scaler = StandardScaler()\n",
    "    boston = datasets.load_boston()\n",
    "    X=boston.data\n",
    "    y=boston.target\n",
    "    X = scaler.fit_transform(X)\n",
    "    return train_test_split(X,y)"
   ]
  },
  {
   "cell_type": "code",
   "execution_count": 6,
   "metadata": {
    "collapsed": false
   },
   "outputs": [],
   "source": [
    "X_train, X_test, y_train, y_test = load_boston()"
   ]
  },
  {
   "cell_type": "code",
   "execution_count": 7,
   "metadata": {
    "collapsed": false
   },
   "outputs": [
    {
     "data": {
      "text/plain": [
       "(379, 13)"
      ]
     },
     "execution_count": 7,
     "metadata": {},
     "output_type": "execute_result"
    }
   ],
   "source": [
    "X_train.shape"
   ]
  },
  {
   "cell_type": "markdown",
   "metadata": {},
   "source": [
    "### Fitting a Linear Regression\n",
    "\n",
    "It's as easy as instantiating a new regression object (line 1) and giving your regression object your training data\n",
    "(line 2) by calling .fit(independent variables, dependent variable)\n",
    "\n"
   ]
  },
  {
   "cell_type": "code",
   "execution_count": 8,
   "metadata": {
    "collapsed": false
   },
   "outputs": [
    {
     "data": {
      "text/plain": [
       "LinearRegression(copy_X=True, fit_intercept=True, n_jobs=1, normalize=False)"
      ]
     },
     "execution_count": 8,
     "metadata": {},
     "output_type": "execute_result"
    }
   ],
   "source": [
    "\n",
    "clf = LinearRegression()\n",
    "clf.fit(X_train, y_train)"
   ]
  },
  {
   "cell_type": "markdown",
   "metadata": {},
   "source": [
    "### Making a Prediction\n",
    "X_test is our holdout set of data.  We know the answer (y_test) but the computer does not.   \n",
    "\n",
    "Using the command below, I create a tuple for each observation, where I'm combining the real value (y_test) with\n",
    "the value our regressor predicts (clf.predict(X_test))\n",
    "\n",
    "Use a similiar format to get your r2 and mse metrics working.  Using the [scikit learn api](http://scikit-learn.org/stable/modules/model_evaluation.html) if you need help!"
   ]
  },
  {
   "cell_type": "code",
   "execution_count": 9,
   "metadata": {
    "collapsed": false
   },
   "outputs": [
    {
     "data": {
      "text/plain": [
       "[(8.4000000000000004, 14.279796751888091),\n",
       " (22.899999999999999, 25.129267021278888),\n",
       " (18.800000000000001, 20.204396124926909),\n",
       " (22.399999999999999, 24.319540531715138),\n",
       " (13.4, 13.834122007951535),\n",
       " (23.0, 24.395152426284493),\n",
       " (19.399999999999999, 23.054453517278233),\n",
       " (41.700000000000003, 39.147845155763449),\n",
       " (15.6, 20.438559760771291),\n",
       " (21.800000000000001, 20.891987099031688),\n",
       " (14.9, 18.056824519286828),\n",
       " (14.5, 17.975218009424932),\n",
       " (7.2000000000000002, 8.1009607895445157),\n",
       " (28.399999999999999, 28.817960565844697),\n",
       " (11.800000000000001, 6.637412240321467),\n",
       " (22.600000000000001, 26.113061465755713),\n",
       " (19.300000000000001, 21.779922527888672),\n",
       " (50.0, 40.787765522531501),\n",
       " (19.300000000000001, 16.326696452122015),\n",
       " (22.5, 21.744802153082976),\n",
       " (10.800000000000001, 10.889686434310052),\n",
       " (13.800000000000001, -1.8253178462271684),\n",
       " (17.300000000000001, 14.97882790326277),\n",
       " (25.0, 24.722994348318164),\n",
       " (14.800000000000001, 14.203886486964965),\n",
       " (20.0, 22.88184739435011),\n",
       " (23.100000000000001, 16.746962671213559),\n",
       " (37.899999999999999, 34.149467422440345),\n",
       " (22.0, 27.382451635330824),\n",
       " (8.0999999999999996, 2.7262912215761652),\n",
       " (18.800000000000001, 19.949813371003401),\n",
       " (13.300000000000001, 13.653416719302861),\n",
       " (29.399999999999999, 31.145242905392443),\n",
       " (35.399999999999999, 31.137986618349899),\n",
       " (21.199999999999999, 23.403730733915832),\n",
       " (16.5, 8.5461237679725102),\n",
       " (19.800000000000001, 21.592966362978316),\n",
       " (21.899999999999999, 40.949650977523433),\n",
       " (23.300000000000001, 28.217204094007759),\n",
       " (20.800000000000001, 19.242781496636557),\n",
       " (22.199999999999999, 23.347470900151489),\n",
       " (25.0, 24.875570183754807),\n",
       " (20.0, 16.256786657865156),\n",
       " (18.199999999999999, 14.425063210482953),\n",
       " (21.199999999999999, 23.3874993721723),\n",
       " (16.699999999999999, 20.791732382784907),\n",
       " (21.699999999999999, 19.805571353971047),\n",
       " (9.5, 12.344859060587272),\n",
       " (17.5, 18.252398008724015),\n",
       " (17.800000000000001, 7.7916541181608086),\n",
       " (23.199999999999999, 26.622898661708668),\n",
       " (13.9, 12.843788012516201),\n",
       " (27.5, 25.371227213175271),\n",
       " (8.8000000000000007, 3.6612693170202597),\n",
       " (19.600000000000001, 17.589809025813071),\n",
       " (15.4, 18.321168350076974),\n",
       " (20.899999999999999, 20.804887021966564),\n",
       " (5.0, 6.0425829615993116),\n",
       " (19.600000000000001, 23.589110987465567),\n",
       " (17.800000000000001, 20.994068897350495),\n",
       " (15.699999999999999, 12.976554027996977),\n",
       " (7.0, -7.8222441478453746),\n",
       " (11.699999999999999, 14.303026204320588),\n",
       " (5.5999999999999996, 10.730508667706641),\n",
       " (22.0, 27.151587084385728),\n",
       " (21.399999999999999, 21.159387271533085),\n",
       " (32.0, 33.286905355300135),\n",
       " (26.399999999999999, 28.662739834222123),\n",
       " (20.600000000000001, 20.319333944356419),\n",
       " (20.699999999999999, 26.004358393870152),\n",
       " (23.899999999999999, 27.73456418320502),\n",
       " (17.100000000000001, 17.491234006223007),\n",
       " (36.200000000000003, 27.48746605150453),\n",
       " (34.899999999999999, 34.607152625021897),\n",
       " (50.0, 37.682369976374261),\n",
       " (12.699999999999999, 10.370242612670713),\n",
       " (27.100000000000001, 17.799309137779694),\n",
       " (48.5, 41.810482204974271),\n",
       " (16.800000000000001, 20.431049317047897),\n",
       " (14.0, 13.25766384233734),\n",
       " (25.0, 29.531841029936032),\n",
       " (21.699999999999999, 22.440667874437064),\n",
       " (20.699999999999999, 22.141836361264325),\n",
       " (18.0, 19.510765427757239),\n",
       " (24.100000000000001, 20.620236861202216),\n",
       " (21.5, 24.695833044387978),\n",
       " (13.9, 17.395348845281656),\n",
       " (18.699999999999999, 20.090142016349887),\n",
       " (36.399999999999999, 33.250042707012746),\n",
       " (30.800000000000001, 31.589023948951919),\n",
       " (32.399999999999999, 37.551949860540226),\n",
       " (22.800000000000001, 29.313116811731408),\n",
       " (24.399999999999999, 28.607485919198432),\n",
       " (20.5, 19.951350240354412),\n",
       " (18.199999999999999, 18.639390387332384),\n",
       " (17.100000000000001, 20.01453833712981),\n",
       " (30.100000000000001, 24.81824307972655),\n",
       " (22.600000000000001, 20.27895651115935),\n",
       " (13.4, 12.920512118169894),\n",
       " (21.0, 21.167905866331555),\n",
       " (19.300000000000001, 20.579888966542068),\n",
       " (19.399999999999999, 16.063875732426588),\n",
       " (20.100000000000001, 22.75142823236223),\n",
       " (16.600000000000001, 15.197108437557384),\n",
       " (13.800000000000001, 10.191715994339052),\n",
       " (24.300000000000001, 28.993122817777454),\n",
       " (24.5, 20.862495612675907),\n",
       " (13.800000000000001, 4.2782060017313732),\n",
       " (14.5, 13.022584284003237),\n",
       " (19.199999999999999, 20.868030806339142),\n",
       " (26.600000000000001, 28.708322884965476),\n",
       " (7.2000000000000002, 6.5883000414224213),\n",
       " (21.699999999999999, 21.970696422687762),\n",
       " (24.800000000000001, 26.39882878353016),\n",
       " (17.899999999999999, -0.95833185359828832),\n",
       " (13.800000000000001, 16.17452865450911),\n",
       " (25.300000000000001, 25.593366015899644),\n",
       " (20.600000000000001, 22.276247724877098),\n",
       " (43.100000000000001, 36.788437139247762),\n",
       " (25.199999999999999, 27.579014317909156),\n",
       " (23.100000000000001, 25.440269184516126),\n",
       " (31.5, 32.032860960208559),\n",
       " (16.300000000000001, 10.569061887324677),\n",
       " (11.300000000000001, 12.935266989494624),\n",
       " (14.1, 17.74291208837413),\n",
       " (17.100000000000001, 19.182497172837717),\n",
       " (12.699999999999999, 18.139937669519405)]"
      ]
     },
     "execution_count": 9,
     "metadata": {},
     "output_type": "execute_result"
    }
   ],
   "source": [
    "list(zip (y_test, clf.predict(X_test)))"
   ]
  },
  {
   "cell_type": "code",
   "execution_count": 10,
   "metadata": {
    "collapsed": true
   },
   "outputs": [],
   "source": [
    "from sklearn.metrics import r2_score"
   ]
  },
  {
   "cell_type": "code",
   "execution_count": 21,
   "metadata": {
    "collapsed": false
   },
   "outputs": [
    {
     "data": {
      "text/plain": [
       "0.66507038605650881"
      ]
     },
     "execution_count": 21,
     "metadata": {},
     "output_type": "execute_result"
    }
   ],
   "source": [
    "r2_score(y_test, clf.predict(X_test))"
   ]
  },
  {
   "cell_type": "code",
   "execution_count": 12,
   "metadata": {
    "collapsed": false
   },
   "outputs": [
    {
     "data": {
      "text/plain": [
       "0.66507038605650881"
      ]
     },
     "execution_count": 12,
     "metadata": {},
     "output_type": "execute_result"
    }
   ],
   "source": [
    "r2_score(y_true, y_pred)"
   ]
  },
  {
   "cell_type": "code",
   "execution_count": 22,
   "metadata": {
    "collapsed": true
   },
   "outputs": [],
   "source": [
    "from sklearn.metrics import mean_squared_error"
   ]
  },
  {
   "cell_type": "code",
   "execution_count": 23,
   "metadata": {
    "collapsed": false
   },
   "outputs": [
    {
     "data": {
      "text/plain": [
       "LinearRegression(copy_X=True, fit_intercept=True, n_jobs=1, normalize=False)"
      ]
     },
     "execution_count": 23,
     "metadata": {},
     "output_type": "execute_result"
    }
   ],
   "source": [
    "clf = LinearRegression()\n",
    "clf.fit(X_train, y_train)"
   ]
  },
  {
   "cell_type": "code",
   "execution_count": 24,
   "metadata": {
    "collapsed": false
   },
   "outputs": [
    {
     "data": {
      "text/plain": [
       "23.171215219910298"
      ]
     },
     "execution_count": 24,
     "metadata": {},
     "output_type": "execute_result"
    }
   ],
   "source": [
    "mean_squared_error(y_test, clf.predict(X_test))"
   ]
  },
  {
   "cell_type": "code",
   "execution_count": 28,
   "metadata": {
    "collapsed": false
   },
   "outputs": [],
   "source": [
    "import math"
   ]
  },
  {
   "cell_type": "code",
   "execution_count": 32,
   "metadata": {
    "collapsed": false
   },
   "outputs": [
    {
     "data": {
      "text/plain": [
       "4.813648846759628"
      ]
     },
     "execution_count": 32,
     "metadata": {},
     "output_type": "execute_result"
    }
   ],
   "source": [
    "math.sqrt(mean_squared_error(y_test, clf.predict(X_test)))"
   ]
  },
  {
   "cell_type": "code",
   "execution_count": null,
   "metadata": {
    "collapsed": true
   },
   "outputs": [],
   "source": []
  }
 ],
 "metadata": {
  "anaconda-cloud": {},
  "kernelspec": {
   "display_name": "Python [default]",
   "language": "python",
   "name": "python3"
  },
  "language_info": {
   "codemirror_mode": {
    "name": "ipython",
    "version": 3
   },
   "file_extension": ".py",
   "mimetype": "text/x-python",
   "name": "python",
   "nbconvert_exporter": "python",
   "pygments_lexer": "ipython3",
   "version": "3.5.2"
  }
 },
 "nbformat": 4,
 "nbformat_minor": 0
}
