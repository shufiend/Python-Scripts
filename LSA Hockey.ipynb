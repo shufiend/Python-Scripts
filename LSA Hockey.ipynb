{
 "cells": [
  {
   "cell_type": "code",
   "execution_count": 1,
   "metadata": {
    "collapsed": false
   },
   "outputs": [],
   "source": [
    "from sklearn.datasets import fetch_20newsgroups\n",
    "categories = ['rec.sport.hockey']\n",
    "dataset = fetch_20newsgroups(subset='all',shuffle=True, random_state=42, categories=categories)\n",
    "corpus = dataset.data"
   ]
  },
  {
   "cell_type": "code",
   "execution_count": 2,
   "metadata": {
    "collapsed": false
   },
   "outputs": [],
   "source": [
    "from bs4 import BeautifulSoup\n",
    "import nltk\n",
    "from nltk.corpus import stopwords\n",
    "from sklearn.feature_extraction.text import TfidfVectorizer\n",
    "from sklearn.decomposition import TruncatedSVD"
   ]
  },
  {
   "cell_type": "code",
   "execution_count": 3,
   "metadata": {
    "collapsed": false
   },
   "outputs": [
    {
     "name": "stdout",
     "output_type": "stream",
     "text": [
      "[nltk_data] Downloading package stopwords to\n",
      "[nltk_data]     C:\\Users\\CG\\AppData\\Roaming\\nltk_data...\n",
      "[nltk_data]   Package stopwords is already up-to-date!\n"
     ]
    },
    {
     "data": {
      "text/plain": [
       "True"
      ]
     },
     "execution_count": 3,
     "metadata": {},
     "output_type": "execute_result"
    }
   ],
   "source": [
    "#run this only once\n",
    "nltk.download('stopwords')"
   ]
  },
  {
   "cell_type": "code",
   "execution_count": 5,
   "metadata": {
    "collapsed": false
   },
   "outputs": [],
   "source": [
    "corpus = [x.lower() for x in corpus]"
   ]
  },
  {
   "cell_type": "code",
   "execution_count": 6,
   "metadata": {
    "collapsed": true
   },
   "outputs": [],
   "source": [
    "stopset = set(stopwords.words('english'))\n",
    "stopset.update(['from', '@', 'edu', 'com','<', '>', '|', '^', '/', '*', 'Subset', 'Re', 'organization', 'Lines', 'distribution', \n",
    "               'html', 'head', 'pre', 'html', 'body', ':'])"
   ]
  },
  {
   "cell_type": "code",
   "execution_count": 7,
   "metadata": {
    "collapsed": true
   },
   "outputs": [],
   "source": [
    "vectorizer = TfidfVectorizer(stop_words=stopset,\n",
    "                                 use_idf=True, ngram_range=(1, 3))\n",
    "X = vectorizer.fit_transform(corpus)"
   ]
  },
  {
   "cell_type": "code",
   "execution_count": 8,
   "metadata": {
    "collapsed": false
   },
   "outputs": [
    {
     "data": {
      "text/plain": [
       "<1x242538 sparse matrix of type '<class 'numpy.float64'>'\n",
       "\twith 283 stored elements in Compressed Sparse Row format>"
      ]
     },
     "execution_count": 8,
     "metadata": {},
     "output_type": "execute_result"
    }
   ],
   "source": [
    "X[0]"
   ]
  },
  {
   "cell_type": "code",
   "execution_count": 45,
   "metadata": {
    "collapsed": false
   },
   "outputs": [
    {
     "name": "stdout",
     "output_type": "stream",
     "text": [
      "  (0, 52243)\t0.074178608241\n",
      "  (0, 188775)\t0.074178608241\n",
      "  (0, 29835)\t0.074178608241\n",
      "  (0, 145472)\t0.074178608241\n",
      "  (0, 63515)\t0.074178608241\n",
      "  (0, 77346)\t0.074178608241\n",
      "  (0, 132621)\t0.074178608241\n",
      "  (0, 102781)\t0.074178608241\n",
      "  (0, 65903)\t0.074178608241\n",
      "  (0, 114041)\t0.074178608241\n",
      "  (0, 162532)\t0.074178608241\n",
      "  (0, 180691)\t0.074178608241\n",
      "  (0, 119514)\t0.074178608241\n",
      "  (0, 63653)\t0.074178608241\n",
      "  (0, 103277)\t0.074178608241\n",
      "  (0, 94983)\t0.074178608241\n",
      "  (0, 132536)\t0.074178608241\n",
      "  (0, 142607)\t0.074178608241\n",
      "  (0, 97610)\t0.074178608241\n",
      "  (0, 114702)\t0.074178608241\n",
      "  (0, 164951)\t0.074178608241\n",
      "  (0, 60136)\t0.074178608241\n",
      "  (0, 52283)\t0.074178608241\n",
      "  (0, 36694)\t0.074178608241\n",
      "  (0, 63639)\t0.074178608241\n",
      "  :\t:\n",
      "  (0, 83979)\t0.034564931111\n",
      "  (0, 185290)\t0.015700981631\n",
      "  (0, 142856)\t0.055743423814\n",
      "  (0, 121663)\t0.111486847628\n",
      "  (0, 38485)\t0.0999712168349\n",
      "  (0, 41739)\t0.105566999397\n",
      "  (0, 17339)\t0.074178608241\n",
      "  (0, 94369)\t0.111486847628\n",
      "  (0, 26629)\t0.0162397891482\n",
      "  (0, 7940)\t0.0378963350097\n",
      "  (0, 100446)\t0.0103511036035\n",
      "  (0, 163124)\t0.061289089997\n",
      "  (0, 48858)\t0.0391841226081\n",
      "  (0, 174946)\t0.0395329313451\n",
      "  (0, 113838)\t0.061289089997\n",
      "  (0, 174982)\t0.0181156723693\n",
      "  (0, 158090)\t0.0375980859436\n",
      "  (0, 30357)\t0.0309170626884\n",
      "  (0, 67472)\t0.125750253323\n",
      "  (0, 52164)\t0.162472161449\n",
      "  (0, 161029)\t0.0102888723311\n",
      "  (0, 39758)\t0.051015354345\n",
      "  (0, 39779)\t0.051015354345\n",
      "  (0, 98645)\t0.0499856084175\n",
      "  (0, 186225)\t0.074178608241\n"
     ]
    }
   ],
   "source": [
    "#After\n",
    "print(X[0])"
   ]
  },
  {
   "cell_type": "code",
   "execution_count": 9,
   "metadata": {
    "collapsed": false
   },
   "outputs": [
    {
     "data": {
      "text/plain": [
       "(999, 242538)"
      ]
     },
     "execution_count": 9,
     "metadata": {},
     "output_type": "execute_result"
    }
   ],
   "source": [
    "X.shape"
   ]
  },
  {
   "cell_type": "code",
   "execution_count": 10,
   "metadata": {
    "collapsed": false
   },
   "outputs": [
    {
     "data": {
      "text/plain": [
       "TruncatedSVD(algorithm='randomized', n_components=27, n_iter=100,\n",
       "       random_state=None, tol=0.0)"
      ]
     },
     "execution_count": 10,
     "metadata": {},
     "output_type": "execute_result"
    }
   ],
   "source": [
    "lsa = TruncatedSVD(n_components=27, n_iter=100)\n",
    "lsa.fit(X)"
   ]
  },
  {
   "cell_type": "code",
   "execution_count": 11,
   "metadata": {
    "collapsed": false
   },
   "outputs": [
    {
     "data": {
      "text/plain": [
       "array([  2.09345024e-02,   1.19274379e-03,   3.60917570e-04, ...,\n",
       "         5.55831391e-05,   5.55831391e-05,   5.55831391e-05])"
      ]
     },
     "execution_count": 11,
     "metadata": {},
     "output_type": "execute_result"
    }
   ],
   "source": [
    "#This is the first row for V\n",
    "lsa.components_[0]"
   ]
  },
  {
   "cell_type": "code",
   "execution_count": 12,
   "metadata": {
    "collapsed": false
   },
   "outputs": [
    {
     "name": "stdout",
     "output_type": "stream",
     "text": [
      "3.5.2 |Anaconda 4.2.0 (64-bit)| (default, Jul  5 2016, 11:41:13) [MSC v.1900 64 bit (AMD64)]\n"
     ]
    }
   ],
   "source": [
    "import sys\n",
    "print (sys.version)"
   ]
  },
  {
   "cell_type": "code",
   "execution_count": 13,
   "metadata": {
    "collapsed": false
   },
   "outputs": [
    {
     "name": "stdout",
     "output_type": "stream",
     "text": [
      "Concept 0:\n",
      "ca\n",
      "game\n",
      "hockey\n",
      "team\n",
      "go\n",
      "would\n",
      "writes\n",
      "play\n",
      "espn\n",
      "games\n",
      " \n",
      "Concept 1:\n",
      "gld\n",
      "10\n",
      "cc columbia\n",
      "cunixb\n",
      "cunixb cc\n",
      "cunixb cc columbia\n",
      "gary dare\n",
      "gary\n",
      "dare\n",
      "espn\n",
      " \n",
      "Concept 2:\n",
      "one\n",
      "10\n",
      "11\n",
      "game\n",
      "12\n",
      "cup\n",
      "hockey\n",
      "series\n",
      "season\n",
      "00\n",
      " \n",
      "Concept 3:\n",
      "article\n",
      "10\n",
      "would\n",
      "bos\n",
      "time\n",
      "cs laurentian\n",
      "cs laurentian ca\n",
      "ramsey cs laurentian\n",
      "cs\n",
      "rangers\n",
      " \n",
      "Concept 4:\n",
      "subject\n",
      "division\n",
      "teams\n",
      "00 00 pm\n",
      "ahl\n",
      "st\n",
      "since\n",
      "hockey\n",
      "would\n",
      "gm\n",
      " \n",
      "Concept 5:\n",
      "go\n",
      "buffalo\n",
      "game\n",
      "still\n",
      "one\n",
      "mike\n",
      "00 00 01\n",
      "second\n",
      "bruins\n",
      "cs\n",
      " \n",
      "Concept 6:\n",
      "year\n",
      "teams\n",
      "first\n",
      "university\n",
      "00 00 monday\n",
      "way\n",
      "playing\n",
      "00 000\n",
      "gld\n",
      "coach\n",
      " \n",
      "Concept 7:\n",
      "game\n",
      "one\n",
      "games\n",
      "buffalo\n",
      "season\n",
      "17\n",
      "play\n",
      "cup\n",
      "playoff\n",
      "caps\n",
      " \n",
      "Concept 8:\n",
      "team\n",
      "nhl\n",
      "league\n",
      "even\n",
      "teams\n",
      "players\n",
      "said\n",
      "pick\n",
      "really\n",
      "think\n",
      " \n",
      "Concept 9:\n",
      "think\n",
      "games\n",
      "article\n",
      "like\n",
      "players\n",
      "league\n",
      "detroit\n",
      "rangers\n",
      "time\n",
      "hockey\n",
      " \n",
      "Concept 10:\n",
      "00 00 00\n",
      "posting\n",
      "ca\n",
      "wings\n",
      "00\n",
      "next\n",
      "leafs\n",
      "15\n",
      "player\n",
      "time\n",
      " \n",
      "Concept 11:\n",
      "year\n",
      "hockey\n",
      "see\n",
      "play\n",
      "one\n",
      "posting\n",
      "world\n",
      "game\n",
      "even\n",
      "games\n",
      " \n",
      "Concept 12:\n",
      "hockey\n",
      "go\n",
      "game\n",
      "win\n",
      "made\n",
      "way\n",
      "say\n",
      "20\n",
      "00 000\n",
      "19\n",
      " \n",
      "Concept 13:\n",
      "one\n",
      "year\n",
      "lines\n",
      "leafs\n",
      "vs\n",
      "ca\n",
      "nntp\n",
      "nntp posting\n",
      "also\n",
      "good\n",
      " \n",
      "Concept 14:\n",
      "ca\n",
      "year\n",
      "article\n",
      "last\n",
      "one\n",
      "boston\n",
      "posting\n",
      "league\n",
      "leafs\n",
      "season\n",
      " \n",
      "Concept 15:\n",
      "game\n",
      "00 00 monday\n",
      "like\n",
      "university\n",
      "00\n",
      "teams\n",
      "good\n",
      "even\n",
      "host\n",
      "pittsburgh\n",
      " \n",
      "Concept 16:\n",
      "00 00 monday\n",
      "posting\n",
      "team\n",
      "writes\n",
      "00\n",
      "00 000\n",
      "espn\n",
      "games\n",
      "game\n",
      "baseball\n",
      " \n",
      "Concept 17:\n",
      "00\n",
      "season\n",
      "think\n",
      "00 000\n",
      "wings\n",
      "best\n",
      "article\n",
      "ca\n",
      "hockey\n",
      "00 00 team\n",
      " \n",
      "Concept 18:\n",
      "00 000\n",
      "game\n",
      "ca\n",
      "like\n",
      "even\n",
      "time\n",
      "gm\n",
      "00 00 00\n",
      "players\n",
      "first\n",
      " \n",
      "Concept 19:\n",
      "one\n",
      "team\n",
      "play\n",
      "00 00 monday\n",
      "00 00 00\n",
      "win\n",
      "see\n",
      "pittsburgh\n",
      "canada\n",
      "buffalo\n",
      " \n",
      "Concept 20:\n",
      "play\n",
      "host\n",
      "nntp\n",
      "nntp posting\n",
      "back\n",
      "lines\n",
      "games\n",
      "blues\n",
      "jets\n",
      "cc\n",
      " \n",
      "Concept 21:\n",
      "hockey\n",
      "get\n",
      "university\n",
      "good\n",
      "think\n",
      "buffalo\n",
      "11\n",
      "win\n",
      "series\n",
      "also\n",
      " \n",
      "Concept 22:\n",
      "would\n",
      "hockey\n",
      "cmu\n",
      "one\n",
      "way\n",
      "goal\n",
      "player\n",
      "get\n",
      "even\n",
      "article\n",
      " \n",
      "Concept 23:\n",
      "game\n",
      "ca\n",
      "go\n",
      "two\n",
      "team\n",
      "00\n",
      "cmu\n",
      "columbia\n",
      "back\n",
      "leafs\n",
      " \n",
      "Concept 24:\n",
      "posting\n",
      "hockey\n",
      "00\n",
      "teams\n",
      "nntp\n",
      "nntp posting\n",
      "00 00 00\n",
      "play\n",
      "think\n",
      "10\n",
      " \n",
      "Concept 25:\n",
      "ca\n",
      "00\n",
      "game\n",
      "writes\n",
      "players\n",
      "cc\n",
      "fans\n",
      "teams\n",
      "play\n",
      "10\n",
      " \n",
      "Concept 26:\n",
      "lines\n",
      "game\n",
      "00 00 monday\n",
      "article\n",
      "one\n",
      "would\n",
      "better\n",
      "players\n",
      "posting\n",
      "bruins\n",
      " \n"
     ]
    }
   ],
   "source": [
    "terms = vectorizer.get_feature_names()\n",
    "for i, comp in enumerate(lsa.components_): \n",
    "    termsInComp = zip (terms,comp)\n",
    "    sortedTerms =  sorted(termsInComp, key=lambda x: x[1], reverse=True) [:10]\n",
    "    print(\"Concept %d:\" % i )\n",
    "    for term in sortedTerms:\n",
    "        print(term[0])\n",
    "    print (\" \")"
   ]
  },
  {
   "cell_type": "code",
   "execution_count": 14,
   "metadata": {
    "collapsed": false
   },
   "outputs": [
    {
     "data": {
      "text/plain": [
       "array([[  2.09345024e-02,   1.19274379e-03,   3.60917570e-04, ...,\n",
       "          5.55831391e-05,   5.55831391e-05,   5.55831391e-05],\n",
       "       [  2.03672573e-02,   2.03124752e-02,   3.63635638e-02, ...,\n",
       "         -4.22039299e-05,  -4.22039299e-05,  -4.22039299e-05],\n",
       "       [  8.71522764e-02,   3.52282071e-02,   4.65344781e-02, ...,\n",
       "         -1.02506252e-04,  -1.02506252e-04,  -1.02506252e-04],\n",
       "       ..., \n",
       "       [  1.45382209e-01,   5.82784346e-03,   1.20656246e-01, ...,\n",
       "          1.71780159e-05,   1.71780159e-05,   1.71780159e-05],\n",
       "       [  2.06060936e-01,   3.16964314e-03,   8.48939008e-02, ...,\n",
       "          4.96889746e-05,   4.96889746e-05,   4.96889746e-05],\n",
       "       [ -6.55607319e-02,   2.76973309e-02,  -1.66538013e-01, ...,\n",
       "         -8.66973436e-05,  -8.66973436e-05,  -8.66973436e-05]])"
      ]
     },
     "execution_count": 14,
     "metadata": {},
     "output_type": "execute_result"
    }
   ],
   "source": [
    "lsa.components_"
   ]
  },
  {
   "cell_type": "code",
   "execution_count": null,
   "metadata": {
    "collapsed": true
   },
   "outputs": [],
   "source": []
  }
 ],
 "metadata": {
  "anaconda-cloud": {},
  "kernelspec": {
   "display_name": "Python [default]",
   "language": "python",
   "name": "python3"
  },
  "language_info": {
   "codemirror_mode": {
    "name": "ipython",
    "version": 3
   },
   "file_extension": ".py",
   "mimetype": "text/x-python",
   "name": "python",
   "nbconvert_exporter": "python",
   "pygments_lexer": "ipython3",
   "version": "3.5.2"
  }
 },
 "nbformat": 4,
 "nbformat_minor": 1
}
