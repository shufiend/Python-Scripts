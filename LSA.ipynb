{
 "cells": [
  {
   "cell_type": "code",
   "execution_count": 25,
   "metadata": {
    "collapsed": false
   },
   "outputs": [],
   "source": [
    "from sklearn.datasets import fetch_20newsgroups\n",
    "categories = ['rec.sport.baseball']\n",
    "dataset = fetch_20newsgroups(subset='all',shuffle=True, random_state=42, categories=categories)\n",
    "corpus = dataset.data"
   ]
  },
  {
   "cell_type": "code",
   "execution_count": 26,
   "metadata": {
    "collapsed": false
   },
   "outputs": [],
   "source": [
    "from bs4 import BeautifulSoup\n",
    "import nltk\n",
    "from nltk.corpus import stopwords\n",
    "from sklearn.feature_extraction.text import TfidfVectorizer\n",
    "from sklearn.decomposition import TruncatedSVD"
   ]
  },
  {
   "cell_type": "code",
   "execution_count": 27,
   "metadata": {
    "collapsed": false
   },
   "outputs": [
    {
     "name": "stdout",
     "output_type": "stream",
     "text": [
      "[nltk_data] Error loading stopwords: <urlopen error [Errno 11001]\n",
      "[nltk_data]     getaddrinfo failed>\n"
     ]
    },
    {
     "data": {
      "text/plain": [
       "False"
      ]
     },
     "execution_count": 27,
     "metadata": {},
     "output_type": "execute_result"
    }
   ],
   "source": [
    "#run this only once\n",
    "nltk.download('stopwords')"
   ]
  },
  {
   "cell_type": "code",
   "execution_count": 28,
   "metadata": {
    "collapsed": false
   },
   "outputs": [
    {
     "ename": "PermissionError",
     "evalue": "[Errno 13] Permission denied: 'C:/Users/CG/Documents/CSC570/week4/rec.sport.baseball'",
     "output_type": "error",
     "traceback": [
      "\u001b[0;31m---------------------------------------------------------------------------\u001b[0m",
      "\u001b[0;31mPermissionError\u001b[0m                           Traceback (most recent call last)",
      "\u001b[0;32m<ipython-input-28-a35ba897fcdb>\u001b[0m in \u001b[0;36m<module>\u001b[0;34m()\u001b[0m\n\u001b[0;32m----> 1\u001b[0;31m \u001b[0mposts\u001b[0m \u001b[1;33m=\u001b[0m \u001b[0mopen\u001b[0m\u001b[1;33m(\u001b[0m\u001b[1;34m'C:/Users/CG/Documents/CSC570/week4/rec.sport.baseball'\u001b[0m\u001b[1;33m)\u001b[0m\u001b[1;33m.\u001b[0m\u001b[0mread\u001b[0m\u001b[1;33m(\u001b[0m\u001b[1;33m)\u001b[0m\u001b[1;33m\u001b[0m\u001b[0m\n\u001b[0m",
      "\u001b[0;31mPermissionError\u001b[0m: [Errno 13] Permission denied: 'C:/Users/CG/Documents/CSC570/week4/rec.sport.baseball'"
     ]
    }
   ],
   "source": [
    "posts = open('C:/Users/CG/Documents/CSC570/week4/rec.sport.baseball').read()"
   ]
  },
  {
   "cell_type": "code",
   "execution_count": 31,
   "metadata": {
    "collapsed": false
   },
   "outputs": [],
   "source": [
    "#soup = BeautifulSoup(posts, 'lxml')\n",
    "#postTxt = soup.findAll('text')  #all posts <text> \n",
    "#postDocs = [x.text for x in postTxt]\n",
    "#postDocs.pop(0)\n",
    "corpus = [x.lower() for x in corpus]"
   ]
  },
  {
   "cell_type": "code",
   "execution_count": 42,
   "metadata": {
    "collapsed": true
   },
   "outputs": [],
   "source": [
    "stopset = set(stopwords.words('english'))\n",
    "stopset.update(['from', '@', 'edu', 'com','<', '>', '|', '^', '/', '*', 'Subset', 'Re', 'organization', 'Lines', 'distribution', \n",
    "               'html', 'head', 'pre', 'html', 'body', ':'])"
   ]
  },
  {
   "cell_type": "code",
   "execution_count": 43,
   "metadata": {
    "collapsed": true
   },
   "outputs": [],
   "source": [
    "vectorizer = TfidfVectorizer(stop_words=stopset,\n",
    "                                 use_idf=True, ngram_range=(1, 3))\n",
    "X = vectorizer.fit_transform(corpus)"
   ]
  },
  {
   "cell_type": "code",
   "execution_count": 44,
   "metadata": {
    "collapsed": false
   },
   "outputs": [
    {
     "data": {
      "text/plain": [
       "<1x189509 sparse matrix of type '<class 'numpy.float64'>'\n",
       "\twith 224 stored elements in Compressed Sparse Row format>"
      ]
     },
     "execution_count": 44,
     "metadata": {},
     "output_type": "execute_result"
    }
   ],
   "source": [
    "X[0]"
   ]
  },
  {
   "cell_type": "code",
   "execution_count": 45,
   "metadata": {
    "collapsed": false
   },
   "outputs": [
    {
     "name": "stdout",
     "output_type": "stream",
     "text": [
      "  (0, 52243)\t0.074178608241\n",
      "  (0, 188775)\t0.074178608241\n",
      "  (0, 29835)\t0.074178608241\n",
      "  (0, 145472)\t0.074178608241\n",
      "  (0, 63515)\t0.074178608241\n",
      "  (0, 77346)\t0.074178608241\n",
      "  (0, 132621)\t0.074178608241\n",
      "  (0, 102781)\t0.074178608241\n",
      "  (0, 65903)\t0.074178608241\n",
      "  (0, 114041)\t0.074178608241\n",
      "  (0, 162532)\t0.074178608241\n",
      "  (0, 180691)\t0.074178608241\n",
      "  (0, 119514)\t0.074178608241\n",
      "  (0, 63653)\t0.074178608241\n",
      "  (0, 103277)\t0.074178608241\n",
      "  (0, 94983)\t0.074178608241\n",
      "  (0, 132536)\t0.074178608241\n",
      "  (0, 142607)\t0.074178608241\n",
      "  (0, 97610)\t0.074178608241\n",
      "  (0, 114702)\t0.074178608241\n",
      "  (0, 164951)\t0.074178608241\n",
      "  (0, 60136)\t0.074178608241\n",
      "  (0, 52283)\t0.074178608241\n",
      "  (0, 36694)\t0.074178608241\n",
      "  (0, 63639)\t0.074178608241\n",
      "  :\t:\n",
      "  (0, 83979)\t0.034564931111\n",
      "  (0, 185290)\t0.015700981631\n",
      "  (0, 142856)\t0.055743423814\n",
      "  (0, 121663)\t0.111486847628\n",
      "  (0, 38485)\t0.0999712168349\n",
      "  (0, 41739)\t0.105566999397\n",
      "  (0, 17339)\t0.074178608241\n",
      "  (0, 94369)\t0.111486847628\n",
      "  (0, 26629)\t0.0162397891482\n",
      "  (0, 7940)\t0.0378963350097\n",
      "  (0, 100446)\t0.0103511036035\n",
      "  (0, 163124)\t0.061289089997\n",
      "  (0, 48858)\t0.0391841226081\n",
      "  (0, 174946)\t0.0395329313451\n",
      "  (0, 113838)\t0.061289089997\n",
      "  (0, 174982)\t0.0181156723693\n",
      "  (0, 158090)\t0.0375980859436\n",
      "  (0, 30357)\t0.0309170626884\n",
      "  (0, 67472)\t0.125750253323\n",
      "  (0, 52164)\t0.162472161449\n",
      "  (0, 161029)\t0.0102888723311\n",
      "  (0, 39758)\t0.051015354345\n",
      "  (0, 39779)\t0.051015354345\n",
      "  (0, 98645)\t0.0499856084175\n",
      "  (0, 186225)\t0.074178608241\n"
     ]
    }
   ],
   "source": [
    "#After\n",
    "print(X[0])"
   ]
  },
  {
   "cell_type": "code",
   "execution_count": 46,
   "metadata": {
    "collapsed": false
   },
   "outputs": [
    {
     "data": {
      "text/plain": [
       "(994, 189509)"
      ]
     },
     "execution_count": 46,
     "metadata": {},
     "output_type": "execute_result"
    }
   ],
   "source": [
    "X.shape"
   ]
  },
  {
   "cell_type": "code",
   "execution_count": 47,
   "metadata": {
    "collapsed": false
   },
   "outputs": [
    {
     "data": {
      "text/plain": [
       "TruncatedSVD(algorithm='randomized', n_components=27, n_iter=100,\n",
       "       random_state=None, tol=0.0)"
      ]
     },
     "execution_count": 47,
     "metadata": {},
     "output_type": "execute_result"
    }
   ],
   "source": [
    "lsa = TruncatedSVD(n_components=27, n_iter=100)\n",
    "lsa.fit(X)"
   ]
  },
  {
   "cell_type": "code",
   "execution_count": 48,
   "metadata": {
    "collapsed": false
   },
   "outputs": [
    {
     "data": {
      "text/plain": [
       "array([ 0.01830666,  0.00575371,  0.00093333, ...,  0.00112916,\n",
       "        0.00112916,  0.00112916])"
      ]
     },
     "execution_count": 48,
     "metadata": {},
     "output_type": "execute_result"
    }
   ],
   "source": [
    "#This is the first row for V\n",
    "lsa.components_[0]"
   ]
  },
  {
   "cell_type": "code",
   "execution_count": 49,
   "metadata": {
    "collapsed": false
   },
   "outputs": [
    {
     "name": "stdout",
     "output_type": "stream",
     "text": [
      "3.5.2 |Anaconda 4.2.0 (64-bit)| (default, Jul  5 2016, 11:41:13) [MSC v.1900 64 bit (AMD64)]\n"
     ]
    }
   ],
   "source": [
    "import sys\n",
    "print (sys.version)"
   ]
  },
  {
   "cell_type": "code",
   "execution_count": 50,
   "metadata": {
    "collapsed": false
   },
   "outputs": [
    {
     "name": "stdout",
     "output_type": "stream",
     "text": [
      "Concept 0:\n",
      "year\n",
      "team\n",
      "would\n",
      "game\n",
      "writes\n",
      "article\n",
      "cs\n",
      "baseball\n",
      "players\n",
      "games\n",
      " \n",
      "Concept 1:\n",
      "00 00 01\n",
      "jewish\n",
      "get\n",
      "maybe\n",
      "many\n",
      "anyone\n",
      "one\n",
      "come\n",
      "writes article\n",
      "lafayette vb30\n",
      " \n",
      "Concept 2:\n",
      "would\n",
      "cs\n",
      "team\n",
      "ca\n",
      "first\n",
      "really\n",
      "many\n",
      "alomar\n",
      "jack\n",
      "morris\n",
      " \n",
      "Concept 3:\n",
      "team\n",
      "00\n",
      "university\n",
      "think\n",
      "go\n",
      "subject\n",
      "better\n",
      "pitching\n",
      "like\n",
      "players\n",
      " \n",
      "Concept 4:\n",
      "first\n",
      "hitter\n",
      "batting\n",
      "00\n",
      "ca\n",
      "like\n",
      "get\n",
      "games\n",
      "00 00\n",
      "day\n",
      " \n",
      "Concept 5:\n",
      "00\n",
      "games\n",
      "subject\n",
      "last\n",
      "university\n",
      "00 00 01\n",
      "cs\n",
      "like\n",
      "00 00\n",
      "00 00 00\n",
      " \n",
      "Concept 6:\n",
      "good\n",
      "host\n",
      "know\n",
      "article\n",
      "nntp posting host\n",
      "posting host\n",
      "even\n",
      "nntp\n",
      "nntp posting\n",
      "batting\n",
      " \n",
      "Concept 7:\n",
      "00\n",
      "00 00\n",
      "00 00 00\n",
      "one\n",
      "00 00 chicago\n",
      "00 00 000\n",
      "baseball\n",
      "home\n",
      "make\n",
      "base\n",
      " \n",
      "Concept 8:\n",
      "00\n",
      "00 00\n",
      "cs\n",
      "00 00 00\n",
      "00 00 01\n",
      "time\n",
      "last year\n",
      "see\n",
      "three\n",
      "year\n",
      " \n",
      "Concept 9:\n",
      "00\n",
      "hit\n",
      "team\n",
      "00 00\n",
      "better\n",
      "mark\n",
      "well\n",
      "let\n",
      "even\n",
      "way\n",
      " \n",
      "Concept 10:\n",
      "one\n",
      "games\n",
      "runs\n",
      "last\n",
      "season\n",
      "well\n",
      "university\n",
      "baseball\n",
      "time\n",
      "right\n",
      " \n",
      "Concept 11:\n",
      "one\n",
      "university\n",
      "player\n",
      "article\n",
      "00 00 chicago\n",
      "best\n",
      "nntp posting host\n",
      "posting host\n",
      "going\n",
      "players\n",
      " \n",
      "Concept 12:\n",
      "two\n",
      "players\n",
      "cs\n",
      "better\n",
      "would\n",
      "may\n",
      "braves\n",
      "see\n",
      "news\n",
      "writes\n",
      " \n",
      "Concept 13:\n",
      "win\n",
      "games\n",
      "hit\n",
      "like\n",
      "baseball\n",
      "much\n",
      "even\n",
      "say\n",
      "time\n",
      "player\n",
      " \n",
      "Concept 14:\n",
      "cs\n",
      "hit\n",
      "game\n",
      "host\n",
      "runs\n",
      "way\n",
      "ball\n",
      "since\n",
      "ted\n",
      "10\n",
      " \n",
      "Concept 15:\n",
      "would\n",
      "game\n",
      "hit\n",
      "two\n",
      "00\n",
      "host\n",
      "00 00 00\n",
      "baseball\n",
      "team\n",
      "right\n",
      " \n",
      "Concept 16:\n",
      "players\n",
      "year\n",
      "subject\n",
      "game\n",
      "writes\n",
      "good\n",
      "article\n",
      "many\n",
      "time\n",
      "00 00 baltimore\n",
      " \n",
      "Concept 17:\n",
      "well\n",
      "last\n",
      "win\n",
      "could\n",
      "00 00 01\n",
      "lines\n",
      "hitter\n",
      "00 00 baltimore\n",
      "back\n",
      "nntp\n",
      " \n",
      "Concept 18:\n",
      "year\n",
      "also\n",
      "well\n",
      "writes\n",
      "years\n",
      "people\n",
      "jays\n",
      "home\n",
      "could\n",
      "fans\n",
      " \n",
      "Concept 19:\n",
      "would\n",
      "team\n",
      "sox\n",
      "last\n",
      "get\n",
      "new\n",
      "wins\n",
      "time\n",
      "ted\n",
      "one\n",
      " \n",
      "Concept 20:\n",
      "year\n",
      "good\n",
      "baseball\n",
      "posting\n",
      "win\n",
      "one\n",
      "hit\n",
      "cs\n",
      "university\n",
      "even\n",
      " \n",
      "Concept 21:\n",
      "best\n",
      "writes\n",
      "hit\n",
      "well\n",
      "stats\n",
      "last year\n",
      "team\n",
      "00 00 baltimore\n",
      "games\n",
      "believe\n",
      " \n",
      "Concept 22:\n",
      "games\n",
      "posting\n",
      "much\n",
      "roger\n",
      "two\n",
      "win\n",
      "00 00 baltimore\n",
      "really\n",
      "morris\n",
      "three\n",
      " \n",
      "Concept 23:\n",
      "00 00 chicago\n",
      "cs\n",
      "good\n",
      "last\n",
      "one\n",
      "well\n",
      "subject\n",
      "know\n",
      "writes\n",
      "00 00 baltimore\n",
      " \n",
      "Concept 24:\n",
      "good\n",
      "like\n",
      "article\n",
      "posting\n",
      "runs\n",
      "players\n",
      "subject\n",
      "get\n",
      "games\n",
      "average\n",
      " \n",
      "Concept 25:\n",
      "think\n",
      "article\n",
      "writes\n",
      "00 00 american\n",
      "best\n",
      "would\n",
      "first\n",
      "posting\n",
      "00 00 chicago\n",
      "like\n",
      " \n",
      "Concept 26:\n",
      "game\n",
      "posting\n",
      "netcom\n",
      "could\n",
      "best\n",
      "good\n",
      "one\n",
      "years\n",
      "jewish\n",
      "would\n",
      " \n"
     ]
    }
   ],
   "source": [
    "terms = vectorizer.get_feature_names()\n",
    "for i, comp in enumerate(lsa.components_): \n",
    "    termsInComp = zip (terms,comp)\n",
    "    sortedTerms =  sorted(termsInComp, key=lambda x: x[1], reverse=True) [:10]\n",
    "    print(\"Concept %d:\" % i )\n",
    "    for term in sortedTerms:\n",
    "        print(term[0])\n",
    "    print (\" \")"
   ]
  },
  {
   "cell_type": "code",
   "execution_count": 41,
   "metadata": {
    "collapsed": false
   },
   "outputs": [
    {
     "data": {
      "text/plain": [
       "array([[ 0.01812657,  0.00568786,  0.00092126, ...,  0.00112779,\n",
       "         0.00112779,  0.00112779],\n",
       "       [-0.00751262,  0.01495232,  0.13011648, ...,  0.00076507,\n",
       "         0.00076507,  0.00071176],\n",
       "       [-0.03709744, -0.02218909, -0.02765868, ...,  0.00096404,\n",
       "         0.00096404,  0.00078258],\n",
       "       ..., \n",
       "       [-0.02654858,  0.00062197,  0.03758409, ..., -0.00247153,\n",
       "        -0.00247153, -0.00194132],\n",
       "       [-0.01117138,  0.01376945,  0.04924036, ...,  0.0020673 ,\n",
       "         0.0020673 ,  0.00210492],\n",
       "       [ 0.00988266, -0.00442768, -0.05749697, ..., -0.00093321,\n",
       "        -0.00093321, -0.00088054]])"
      ]
     },
     "execution_count": 41,
     "metadata": {},
     "output_type": "execute_result"
    }
   ],
   "source": [
    "lsa.components_"
   ]
  },
  {
   "cell_type": "code",
   "execution_count": null,
   "metadata": {
    "collapsed": true
   },
   "outputs": [],
   "source": []
  }
 ],
 "metadata": {
  "anaconda-cloud": {},
  "kernelspec": {
   "display_name": "Python [default]",
   "language": "python",
   "name": "python3"
  },
  "language_info": {
   "codemirror_mode": {
    "name": "ipython",
    "version": 3
   },
   "file_extension": ".py",
   "mimetype": "text/x-python",
   "name": "python",
   "nbconvert_exporter": "python",
   "pygments_lexer": "ipython3",
   "version": "3.5.2"
  }
 },
 "nbformat": 4,
 "nbformat_minor": 1
}
